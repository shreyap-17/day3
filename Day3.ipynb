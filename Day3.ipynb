{
 "cells": [
  {
   "cell_type": "markdown",
   "metadata": {},
   "source": [
    "# Numpy"
   ]
  },
  {
   "cell_type": "code",
   "execution_count": 25,
   "metadata": {},
   "outputs": [
    {
     "name": "stdout",
     "output_type": "stream",
     "text": [
      "\n",
      "Usage:   \n",
      "  c:\\users\\shreya\\appdata\\local\\programs\\python\\python38\\python.exe -m pip <command> [options]\n",
      "\n",
      "Commands:\n",
      "  install                     Install packages.\n",
      "  download                    Download packages.\n",
      "  uninstall                   Uninstall packages.\n",
      "  freeze                      Output installed packages in requirements format.\n",
      "  list                        List installed packages.\n",
      "  show                        Show information about installed packages.\n",
      "  check                       Verify installed packages have compatible dependencies.\n",
      "  config                      Manage local and global configuration.\n",
      "  search                      Search PyPI for packages.\n",
      "  cache                       Inspect and manage pip's wheel cache.\n",
      "  wheel                       Build wheels from your requirements.\n",
      "  hash                        Compute hashes of package archives.\n",
      "  completion                  A helper command used for command completion.\n",
      "  debug                       Show information useful for debugging.\n",
      "  help                        Show help for commands.\n",
      "\n",
      "General Options:\n",
      "  -h, --help                  Show help.\n",
      "  --isolated                  Run pip in an isolated mode, ignoring\n",
      "                              environment variables and user configuration.\n",
      "  -v, --verbose               Give more output. Option is additive, and can be\n",
      "                              used up to 3 times.\n",
      "  -V, --version               Show version and exit.\n",
      "  -q, --quiet                 Give less output. Option is additive, and can be\n",
      "                              used up to 3 times (corresponding to WARNING,\n",
      "                              ERROR, and CRITICAL logging levels).\n",
      "  --log <path>                Path to a verbose appending log.\n",
      "  --no-input                  Disable prompting for input.\n",
      "  --proxy <proxy>             Specify a proxy in the form\n",
      "                              [user:passwd@]proxy.server:port.\n",
      "  --retries <retries>         Maximum number of retries each connection should\n",
      "                              attempt (default 5 times).\n",
      "  --timeout <sec>             Set the socket timeout (default 15 seconds).\n",
      "  --exists-action <action>    Default action when a path already exists:\n",
      "                              (s)witch, (i)gnore, (w)ipe, (b)ackup, (a)bort.\n",
      "  --trusted-host <hostname>   Mark this host or host:port pair as trusted,\n",
      "                              even though it does not have valid or any HTTPS.\n",
      "  --cert <path>               Path to alternate CA bundle.\n",
      "  --client-cert <path>        Path to SSL client certificate, a single file\n",
      "                              containing the private key and the certificate\n",
      "                              in PEM format.\n",
      "  --cache-dir <dir>           Store the cache data in <dir>.\n",
      "  --no-cache-dir              Disable the cache.\n",
      "  --disable-pip-version-check\n",
      "                              Don't periodically check PyPI to determine\n",
      "                              whether a new version of pip is available for\n",
      "                              download. Implied with --no-index.\n",
      "  --no-color                  Suppress colored output\n",
      "  --no-python-version-warning\n",
      "                              Silence deprecation warnings for upcoming\n",
      "                              unsupported Pythons.\n",
      "  --use-feature <feature>     Enable new functionality, that may be backward\n",
      "                              incompatible.\n",
      "  --use-deprecated <feature>  Enable deprecated functionality, that will be\n",
      "                              removed in the future.\n",
      "Note: you may need to restart the kernel to use updated packages.\n"
     ]
    }
   ],
   "source": [
    "pip"
   ]
  },
  {
   "cell_type": "code",
   "execution_count": 1,
   "metadata": {},
   "outputs": [],
   "source": [
    "import numpy as np"
   ]
  },
  {
   "cell_type": "code",
   "execution_count": 2,
   "metadata": {},
   "outputs": [
    {
     "name": "stdout",
     "output_type": "stream",
     "text": [
      "(27,)\n",
      "1\n",
      "27\n",
      "108\n",
      "[0, 1, 2, 3, 4, 5, 6, 7, 8, 9, 10, 11, 12, 13, 14, 15, 16, 17, 18, 19, 20, 21, 22, 23, 24, 25, 26]\n",
      "[[[ 0  1  2]\n",
      "  [ 3  4  5]\n",
      "  [ 6  7  8]]\n",
      "\n",
      " [[ 9 10 11]\n",
      "  [12 13 14]\n",
      "  [15 16 17]]\n",
      "\n",
      " [[18 19 20]\n",
      "  [21 22 23]\n",
      "  [24 25 26]]]\n",
      "26\n"
     ]
    }
   ],
   "source": [
    "x = np.arange(27)\n",
    "\n",
    "print(x.shape)\n",
    "print(x.ndim)\n",
    "print(x.size)\n",
    "print(x.nbytes)\n",
    "y = x.tolist()\n",
    "print(y)\n",
    "print(x.reshape((3,3,3)))\n",
    "x.sort()\n",
    "print(x.max())"
   ]
  },
  {
   "cell_type": "markdown",
   "metadata": {},
   "source": [
    "# Pandas"
   ]
  },
  {
   "cell_type": "code",
   "execution_count": 3,
   "metadata": {},
   "outputs": [
    {
     "name": "stdout",
     "output_type": "stream",
     "text": [
      "    Transaction_date   Product Price Payment_Type               Name  \\\n",
      "0        1/2/09 6:17  Product1  1200   Mastercard           carolina   \n",
      "1        1/2/09 4:53  Product1  1200         Visa             Betina   \n",
      "2       1/2/09 13:08  Product1  1200   Mastercard  Federica e Andrea   \n",
      "3       1/3/09 14:44  Product1  1200         Visa              Gouya   \n",
      "4       1/4/09 12:56  Product2  3600         Visa            Gerd W    \n",
      "..               ...       ...   ...          ...                ...   \n",
      "993    1/22/09 14:25  Product1  1200         Visa         Hans-Joerg   \n",
      "994     1/28/09 5:36  Product2  3600         Visa         Christiane   \n",
      "995      1/1/09 4:24  Product3  7500         Amex             Pamela   \n",
      "996     1/8/09 11:55  Product1  1200       Diners              julie   \n",
      "997    1/12/09 21:30  Product1  1200         Visa             Julia    \n",
      "\n",
      "                             City             State         Country  \\\n",
      "0                        Basildon           England  United Kingdom   \n",
      "1    Parkville                                   MO   United States   \n",
      "2    Astoria                                     OR   United States   \n",
      "3                          Echuca          Victoria       Australia   \n",
      "4    Cahaba Heights                              AL   United States   \n",
      "..                            ...               ...             ...   \n",
      "993                       Belfast  Northern Ireland  United Kingdom   \n",
      "994                   Black River       Black River       Mauritius   \n",
      "995  Skaneateles                                 NY   United States   \n",
      "996                     Haverhill           England  United Kingdom   \n",
      "997  Madison                                     WI   United States   \n",
      "\n",
      "    Account_Created    Last_Login   Latitude   Longitude  \n",
      "0       1/2/09 6:00   1/2/09 6:08  51.500000   -1.116667  \n",
      "1       1/2/09 4:42   1/2/09 7:49  39.195000  -94.681940  \n",
      "2      1/1/09 16:21  1/3/09 12:32  46.188060 -123.830000  \n",
      "3     9/25/05 21:13  1/3/09 14:22 -36.133333  144.750000  \n",
      "4    11/15/08 15:47  1/4/09 12:45  33.520560  -86.802500  \n",
      "..              ...           ...        ...         ...  \n",
      "993  11/10/08 12:15   3/1/09 3:37  54.583333   -5.933333  \n",
      "994     1/9/09 8:10   3/1/09 4:40 -20.360278   57.366111  \n",
      "995  12/28/08 17:28   3/1/09 7:21  42.946940  -76.429440  \n",
      "996  11/29/06 13:31   3/1/09 7:28  52.083333    0.433333  \n",
      "997  11/17/08 22:24  3/1/09 10:14  43.073060  -89.401110  \n",
      "\n",
      "[998 rows x 12 columns]\n",
      "Transaction_date     object\n",
      "Product              object\n",
      "Price                object\n",
      "Payment_Type         object\n",
      "Name                 object\n",
      "City                 object\n",
      "State                object\n",
      "Country              object\n",
      "Account_Created      object\n",
      "Last_Login           object\n",
      "Latitude            float64\n",
      "Longitude           float64\n",
      "dtype: object\n",
      "      Latitude   Longitude\n",
      "0    51.500000   -1.116667\n",
      "1    39.195000  -94.681940\n",
      "2    46.188060 -123.830000\n",
      "3   -36.133333  144.750000\n",
      "4    33.520560  -86.802500\n",
      "..         ...         ...\n",
      "993  54.583333   -5.933333\n",
      "994 -20.360278   57.366111\n",
      "995  42.946940  -76.429440\n",
      "996  52.083333    0.433333\n",
      "997  43.073060  -89.401110\n",
      "\n",
      "[998 rows x 2 columns]\n",
      "<class 'pandas.core.frame.DataFrame'>\n",
      "RangeIndex: 998 entries, 0 to 997\n",
      "Data columns (total 12 columns):\n",
      " #   Column            Non-Null Count  Dtype  \n",
      "---  ------            --------------  -----  \n",
      " 0   Transaction_date  998 non-null    object \n",
      " 1   Product           998 non-null    object \n",
      " 2   Price             998 non-null    object \n",
      " 3   Payment_Type      998 non-null    object \n",
      " 4   Name              998 non-null    object \n",
      " 5   City              998 non-null    object \n",
      " 6   State             997 non-null    object \n",
      " 7   Country           998 non-null    object \n",
      " 8   Account_Created   998 non-null    object \n",
      " 9   Last_Login        998 non-null    object \n",
      " 10  Latitude          998 non-null    float64\n",
      " 11  Longitude         998 non-null    float64\n",
      "dtypes: float64(2), object(10)\n",
      "memory usage: 93.7+ KB\n",
      "None\n",
      "['Argentina' 'Australia' 'Austria' 'Bahrain' 'Belgium' 'Bermuda' 'Brazil'\n",
      " 'Bulgaria' 'Canada' 'Cayman Isls' 'China' 'Costa Rica' 'Czech Republic'\n",
      " 'Denmark' 'Dominican Republic' 'Finland' 'France' 'Germany' 'Greece'\n",
      " 'Guatemala' 'Hong Kong' 'Hungary' 'Iceland' 'India' 'Ireland' 'Israel'\n",
      " 'Italy' 'Japan' 'Jersey' 'Kuwait' 'Latvia' 'Luxembourg' 'Malaysia'\n",
      " 'Malta' 'Mauritius' 'Moldova' 'Monaco' 'Netherlands' 'New Zealand'\n",
      " 'Norway' 'Philippines' 'Poland' 'Romania' 'Russia' 'South Africa'\n",
      " 'South Korea' 'Spain' 'Sweden' 'Switzerland' 'Thailand' 'The Bahamas'\n",
      " 'Turkey' 'Ukraine' 'United Arab Emirates' 'United Kingdom'\n",
      " 'United States']\n"
     ]
    }
   ],
   "source": [
    "import os\n",
    "import pandas as pd\n",
    "import numpy as np\n",
    "\n",
    "os.chdir(\"E:\")\n",
    "file_csv = pd.read_csv(\"SalesJan2009.csv\")\n",
    "print(file_csv)\n",
    "\n",
    "# check datatype of each column\n",
    "print(file_csv.dtypes)\n",
    "file_csv.dtypes.value_counts() #return counts of unique datatypes in data frames\n",
    "\n",
    "#return a subset of column based on their datatypes \n",
    "#we can use include to indicate needed column or exclude with datatype to avoid that columns\n",
    "print(file_csv.select_dtypes(exclude=[object]))\n",
    "\n",
    "#give a summary of dataframe types of index,column,count of not null-values,memory usage \n",
    "print(file_csv.info())\n",
    "  \n",
    "#to find unique elements of a column\n",
    "print(np.unique(file_csv['Country']))\n"
   ]
  },
  {
   "cell_type": "markdown",
   "metadata": {},
   "source": [
    "# Random"
   ]
  },
  {
   "cell_type": "code",
   "execution_count": 4,
   "metadata": {},
   "outputs": [],
   "source": [
    "import random as rand"
   ]
  },
  {
   "cell_type": "code",
   "execution_count": 5,
   "metadata": {},
   "outputs": [
    {
     "data": {
      "text/plain": [
       "1"
      ]
     },
     "execution_count": 5,
     "metadata": {},
     "output_type": "execute_result"
    }
   ],
   "source": [
    "rand.randrange(5)"
   ]
  },
  {
   "cell_type": "code",
   "execution_count": 6,
   "metadata": {},
   "outputs": [
    {
     "data": {
      "text/plain": [
       "29"
      ]
     },
     "execution_count": 6,
     "metadata": {},
     "output_type": "execute_result"
    }
   ],
   "source": [
    "rand.randint(1,50)"
   ]
  },
  {
   "cell_type": "code",
   "execution_count": 7,
   "metadata": {},
   "outputs": [
    {
     "data": {
      "text/plain": [
       "13"
      ]
     },
     "execution_count": 7,
     "metadata": {},
     "output_type": "execute_result"
    }
   ],
   "source": [
    "rand.getrandbits(5)"
   ]
  },
  {
   "cell_type": "code",
   "execution_count": 8,
   "metadata": {},
   "outputs": [
    {
     "data": {
      "text/plain": [
       "['apple',\n",
       " 'apple',\n",
       " 'apple',\n",
       " 'apple',\n",
       " 'apple',\n",
       " 'apple',\n",
       " 'apple',\n",
       " 'apple',\n",
       " 'apple',\n",
       " 'apple',\n",
       " 'apple',\n",
       " 'banana',\n",
       " 'apple',\n",
       " 'apple']"
      ]
     },
     "execution_count": 8,
     "metadata": {},
     "output_type": "execute_result"
    }
   ],
   "source": [
    "mylist = [\"apple\", \"banana\", \"cherry\"]\n",
    "rand.choices(mylist, weights = [10, 1, 1], k = 14)"
   ]
  },
  {
   "cell_type": "code",
   "execution_count": 9,
   "metadata": {},
   "outputs": [
    {
     "name": "stdout",
     "output_type": "stream",
     "text": [
      "['name', 'is', 'Shreya.', 'My']\n"
     ]
    }
   ],
   "source": [
    "list_1 = 'My name is Shreya.'.split()\n",
    "rand.shuffle(list_1)\n",
    "print(list_1)"
   ]
  },
  {
   "cell_type": "code",
   "execution_count": 10,
   "metadata": {},
   "outputs": [
    {
     "data": {
      "text/plain": [
       "3.6278674709380403"
      ]
     },
     "execution_count": 10,
     "metadata": {},
     "output_type": "execute_result"
    }
   ],
   "source": [
    "rand.uniform(1.0,5.0)"
   ]
  },
  {
   "cell_type": "code",
   "execution_count": 11,
   "metadata": {},
   "outputs": [
    {
     "data": {
      "text/plain": [
       "0.02783136896645233"
      ]
     },
     "execution_count": 11,
     "metadata": {},
     "output_type": "execute_result"
    }
   ],
   "source": [
    "rand.random()"
   ]
  },
  {
   "cell_type": "code",
   "execution_count": 12,
   "metadata": {},
   "outputs": [
    {
     "name": "stdout",
     "output_type": "stream",
     "text": [
      "2\n"
     ]
    }
   ],
   "source": [
    "import random\n",
    "a = [1,2,3]\n",
    "print(random.choice(a))"
   ]
  },
  {
   "cell_type": "code",
   "execution_count": 13,
   "metadata": {},
   "outputs": [
    {
     "name": "stdout",
     "output_type": "stream",
     "text": [
      "4\n"
     ]
    }
   ],
   "source": [
    "print(random.randint(1,10))"
   ]
  },
  {
   "cell_type": "markdown",
   "metadata": {},
   "source": [
    "# Random Task:1 OTP Generato"
   ]
  },
  {
   "cell_type": "code",
   "execution_count": 14,
   "metadata": {},
   "outputs": [
    {
     "name": "stdout",
     "output_type": "stream",
     "text": [
      "Enter Length: 4\n",
      "4179\n"
     ]
    }
   ],
   "source": [
    "length = int(input(\"Enter Length: \"))\n",
    "\n",
    "num = \"0123456789\"\n",
    "print(\"\".join(random.sample(num,length)))"
   ]
  },
  {
   "cell_type": "markdown",
   "metadata": {},
   "source": [
    "# Random Task:2 Password Generator"
   ]
  },
  {
   "cell_type": "code",
   "execution_count": 15,
   "metadata": {},
   "outputs": [
    {
     "name": "stdout",
     "output_type": "stream",
     "text": [
      "Enter length of password(>=4): 5\n",
      "2bM~(\n"
     ]
    }
   ],
   "source": [
    "import random as rand\n",
    "\n",
    "digit= ['0', '1', '2', '3', '4', '5', '6', '7', '8', '9'] \n",
    "locase = ['a', 'b', 'c', 'd', 'e', 'f', 'g', 'h','i', 'j', 'k', 'm', 'n', 'o', 'p', 'q',\n",
    "                     'r', 's', 't', 'u', 'v', 'w', 'x', 'y','z']\n",
    "upcase = list(map(lambda x:x.upper(), locase))\n",
    "sym = ['@', '#', '$', '%', '=', ':', '?', '.', '/', '|', '~', '>','*', '(', ')', '<']\n",
    "\n",
    "r_digit = rand.choices(digit)\n",
    "r_upcase = rand.choices(upcase)\n",
    "r_locase = rand.choices(locase)\n",
    "r_sym = rand.choices(sym)\n",
    "\n",
    "r_com = r_digit + r_locase + r_upcase + r_sym\n",
    "com_list = digit + locase + upcase + sym\n",
    "\n",
    "length = int(input(\"Enter length of password(>=4): \"))\n",
    "for i in range(length - 4):\n",
    "    r_com += rand.choices(com_list)\n",
    "    \n",
    "password = \"\"\n",
    "for j in r_com:\n",
    "        password = password + j\n",
    "         \n",
    "print(password)"
   ]
  },
  {
   "cell_type": "markdown",
   "metadata": {},
   "source": [
    "# gTTS"
   ]
  },
  {
   "cell_type": "code",
   "execution_count": 16,
   "metadata": {},
   "outputs": [
    {
     "name": "stdout",
     "output_type": "stream",
     "text": [
      "Note: you may need to restart the kernel to use updated packages.\n"
     ]
    },
    {
     "name": "stderr",
     "output_type": "stream",
     "text": [
      "WARNING: You are using pip version 20.2.1; however, version 21.1.2 is available.\n",
      "You should consider upgrading via the 'c:\\users\\shreya\\appdata\\local\\programs\\python\\python38\\python.exe -m pip install --upgrade pip' command.\n"
     ]
    },
    {
     "name": "stdout",
     "output_type": "stream",
     "text": [
      "Requirement already satisfied: gtts in c:\\users\\shreya\\appdata\\local\\programs\\python\\python38\\lib\\site-packages (2.2.2)\n",
      "Requirement already satisfied: click in c:\\users\\shreya\\appdata\\local\\programs\\python\\python38\\lib\\site-packages (from gtts) (8.0.1)\n",
      "Requirement already satisfied: six in c:\\users\\shreya\\appdata\\local\\programs\\python\\python38\\lib\\site-packages (from gtts) (1.15.0)\n",
      "Requirement already satisfied: requests in c:\\users\\shreya\\appdata\\local\\programs\\python\\python38\\lib\\site-packages (from gtts) (2.24.0)\n",
      "Requirement already satisfied: colorama; platform_system == \"Windows\" in c:\\users\\shreya\\appdata\\local\\programs\\python\\python38\\lib\\site-packages (from click->gtts) (0.4.3)\n",
      "Requirement already satisfied: idna<3,>=2.5 in c:\\users\\shreya\\appdata\\local\\programs\\python\\python38\\lib\\site-packages (from requests->gtts) (2.10)\n",
      "Requirement already satisfied: certifi>=2017.4.17 in c:\\users\\shreya\\appdata\\local\\programs\\python\\python38\\lib\\site-packages (from requests->gtts) (2020.6.20)\n",
      "Requirement already satisfied: chardet<4,>=3.0.2 in c:\\users\\shreya\\appdata\\local\\programs\\python\\python38\\lib\\site-packages (from requests->gtts) (3.0.4)\n",
      "Requirement already satisfied: urllib3!=1.25.0,!=1.25.1,<1.26,>=1.21.1 in c:\\users\\shreya\\appdata\\local\\programs\\python\\python38\\lib\\site-packages (from requests->gtts) (1.25.10)\n"
     ]
    }
   ],
   "source": [
    "pip install gtts"
   ]
  },
  {
   "cell_type": "code",
   "execution_count": 17,
   "metadata": {},
   "outputs": [],
   "source": [
    "from gtts import gTTS"
   ]
  },
  {
   "cell_type": "code",
   "execution_count": 18,
   "metadata": {},
   "outputs": [],
   "source": [
    "a = gTTS(\"Hello, My name is Shreya\")"
   ]
  },
  {
   "cell_type": "code",
   "execution_count": 19,
   "metadata": {},
   "outputs": [
    {
     "data": {
      "text/plain": [
       "['f.req=%5B%5B%5B%22jQ1olc%22%2C%22%5B%5C%22Hello%2C%20My%20name%20is%20Shreya%5C%22%2C%5C%22en%5C%22%2Cnull%2C%5C%22null%5C%22%5D%22%2Cnull%2C%22generic%22%5D%5D%5D&']"
      ]
     },
     "execution_count": 19,
     "metadata": {},
     "output_type": "execute_result"
    }
   ],
   "source": [
    "gTTS.get_bodies(a)"
   ]
  },
  {
   "cell_type": "code",
   "execution_count": 20,
   "metadata": {},
   "outputs": [],
   "source": [
    "a.save(\"voice.mp3\")"
   ]
  },
  {
   "cell_type": "code",
   "execution_count": 22,
   "metadata": {},
   "outputs": [
    {
     "name": "stdout",
     "output_type": "stream",
     "text": [
      "How many lines you want to add2\n",
      "Enter line:hey\n",
      "Enter line:i'm shreya\n"
     ]
    }
   ],
   "source": [
    "from gtts import gTTS\n",
    "\n",
    "text_no = int(input(\"How many lines you want to add\"))\n",
    "\n",
    "with open('voice.mp3', 'wb') as f:\n",
    "    for i in range(text_no):\n",
    "        text = input(\"Enter line:\")\n",
    "        tts = gTTS(text)\n",
    "        tts.write_to_fp(f)\n"
   ]
  },
  {
   "cell_type": "code",
   "execution_count": 23,
   "metadata": {},
   "outputs": [],
   "source": [
    "from gtts import gTTS\n",
    "from io import BytesIO\n",
    "mp3_fp = BytesIO()\n",
    "tts = gTTS('hello', lang='en')\n",
    "tts.write_to_fp(mp3_fp)"
   ]
  },
  {
   "cell_type": "code",
   "execution_count": 24,
   "metadata": {},
   "outputs": [],
   "source": [
    "from gtts import gTTS\n",
    "from tempfile import TemporaryFile\n",
    "tts = gTTS(text='Hello', lang='en')\n",
    "f = TemporaryFile()\n",
    "tts.write_to_fp(f)"
   ]
  }
 ],
 "metadata": {
  "kernelspec": {
   "display_name": "Python 3",
   "language": "python",
   "name": "python3"
  },
  "language_info": {
   "codemirror_mode": {
    "name": "ipython",
    "version": 3
   },
   "file_extension": ".py",
   "mimetype": "text/x-python",
   "name": "python",
   "nbconvert_exporter": "python",
   "pygments_lexer": "ipython3",
   "version": "3.8.6rc1"
  }
 },
 "nbformat": 4,
 "nbformat_minor": 4
}
